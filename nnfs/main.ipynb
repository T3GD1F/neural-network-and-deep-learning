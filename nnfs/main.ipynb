{
 "cells": [
  {
   "cell_type": "markdown",
   "source": [
    "# main.py\r\n",
    "\r\n",
    "Default Notebook for working with the Fashion MNIST Dataset.\r\n",
    "Single Load in, then Trial and Error possible."
   ],
   "metadata": {}
  },
  {
   "cell_type": "code",
   "execution_count": 7,
   "source": [
    "### --- IMPORTS --- ###\r\n",
    "# Standard Import\r\n",
    "import os\r\n",
    "\r\n",
    "# Own Import\r\n",
    "from src import network\r\n",
    "from src import loader\r\n",
    "from src import drawer\r\n",
    "\r\n",
    "# Third-Party Import\r\n",
    "import numpy as np\r\n",
    "import matplotlib.pyplot as plt\r\n",
    "import cv2"
   ],
   "outputs": [],
   "metadata": {}
  },
  {
   "cell_type": "code",
   "execution_count": 3,
   "source": [
    "# NNFS\r\n",
    "import nnfs\r\n",
    "nnfs.init()"
   ],
   "outputs": [],
   "metadata": {}
  },
  {
   "cell_type": "code",
   "execution_count": 24,
   "source": [
    "### Hyperparameters\r\n",
    "EPOCHS = 12\r\n",
    "BATCH_SIZE = 64"
   ],
   "outputs": [],
   "metadata": {}
  },
  {
   "cell_type": "code",
   "execution_count": 25,
   "source": [
    "### Labels\r\n",
    "fashion_mnist_labels = {\r\n",
    "    0: 'T-shirt/top',\r\n",
    "    1: 'Trouser',\r\n",
    "    2: 'Pullover',\r\n",
    "    3: 'Dress',\r\n",
    "    4: 'Coat',\r\n",
    "    5: 'Sandal',\r\n",
    "    6: 'Shirt',\r\n",
    "    7: 'Sneaker',\r\n",
    "    8: 'Bag',\r\n",
    "    9: 'Ankle boot'\r\n",
    "}"
   ],
   "outputs": [],
   "metadata": {}
  },
  {
   "cell_type": "code",
   "execution_count": 6,
   "source": [
    "### Load Data (run get_mnist.py before executing this for first time)\r\n",
    "print(\"% Start Loading Data\")\r\n",
    "X, y, X_test, y_test = loader.create_data_mnist('fashion_mnist_images')\r\n",
    "print(\"% Successfully loaded Data\", \"\\n\")\r\n",
    "\r\n",
    "\r\n",
    "print(\"% Preprocess Data\")\r\n",
    "# Shuffle Data\r\n",
    "keys = np.array(range(X.shape[0]))\r\n",
    "np.random.shuffle(keys)\r\n",
    "X = X[keys]\r\n",
    "y = y[keys]\r\n",
    "\r\n",
    "# Scale and Shape Data\r\n",
    "X = X.reshape(X.shape[0], -1)\r\n",
    "X_test = X_test.reshape(X_test.shape[0], -1)\r\n",
    "\r\n",
    "X = (X.astype(np.float32) - 127.5) / 127.5\r\n",
    "X_test = (X_test.astype(np.float32) - 127.5) / 127.5\r\n",
    "\r\n",
    "print(\"% Successfully preprocessed Data\", \"\\n\")"
   ],
   "outputs": [
    {
     "output_type": "stream",
     "name": "stdout",
     "text": [
      "% Start Loading Data\n",
      "% Successfully loaded Data \n",
      "\n",
      "% Preprocess Data\n",
      "% Successfully preprocessed Data \n",
      "\n"
     ]
    }
   ],
   "metadata": {}
  },
  {
   "cell_type": "code",
   "execution_count": 70,
   "source": [
    "### Neural Network\r\n",
    "# Init Model\r\n",
    "model = network.Model()\r\n",
    "\r\n",
    "model.add(network.layers.Layer_Dense(X.shape[1], 128))\r\n",
    "model.add(network.activation_functions.Activation_ReLU())\r\n",
    "\r\n",
    "model.add(network.layers.Layer_Dense(128, 64, weight_regularizer_l2=5e-4, bias_regularizer_l2=5e-4))\r\n",
    "model.add(network.activation_functions.Activation_ReLU())\r\n",
    "\r\n",
    "model.add(network.layers.Layer_Dense(64, 32, weight_regularizer_l2=5e-4, bias_regularizer_l2=5e-4))\r\n",
    "model.add(network.activation_functions.Activation_ReLU())\r\n",
    "\r\n",
    "model.add(network.layers.Layer_Dense(32, 16, weight_regularizer_l2=5e-4, bias_regularizer_l2=5e-4))\r\n",
    "model.add(network.activation_functions.Activation_ReLU())\r\n",
    "\r\n",
    "model.add(network.layers.Layer_Dense(16, 8, weight_regularizer_l2=5e-4, bias_regularizer_l2=5e-4))\r\n",
    "model.add(network.activation_functions.Activation_ReLU())\r\n",
    "\r\n",
    "model.add(network.layers.Layer_Dense(8, 4, weight_regularizer_l2=5e-4, bias_regularizer_l2=5e-4))\r\n",
    "model.add(network.activation_functions.Activation_ReLU())\r\n",
    "\r\n",
    "model.add(network.layers.Layer_Dense(4, 8, weight_regularizer_l2=5e-4, bias_regularizer_l2=5e-4))\r\n",
    "model.add(network.activation_functions.Activation_ReLU())\r\n",
    "\r\n",
    "model.add(network.layers.Layer_Dense(8, 16, weight_regularizer_l2=5e-4, bias_regularizer_l2=5e-4))\r\n",
    "model.add(network.activation_functions.Activation_ReLU())\r\n",
    "\r\n",
    "model.add(network.layers.Layer_Dense(16, 32, weight_regularizer_l2=5e-4, bias_regularizer_l2=5e-4))\r\n",
    "model.add(network.activation_functions.Activation_ReLU())\r\n",
    "\r\n",
    "model.add(network.layers.Layer_Dense(32, 64, weight_regularizer_l2=5e-4, bias_regularizer_l2=5e-4))\r\n",
    "model.add(network.activation_functions.Activation_ReLU())\r\n",
    "\r\n",
    "model.add(network.layers.Layer_Dense(64, 128, weight_regularizer_l2=5e-4, bias_regularizer_l2=5e-4))\r\n",
    "model.add(network.activation_functions.Activation_ReLU())\r\n",
    "\r\n",
    "model.add(network.layers.Layer_Dense(128, X.shape[1]))\r\n",
    "model.add(network.activation_functions.Activation_Sigmoid())\r\n",
    "\r\n",
    "model.set(\r\n",
    "    loss = network.loss_functions.Loss_MeanSquaredError(),\r\n",
    "    optimizer = network.optimizers.Optimizer_Adam(learning_rate=0.01, decay=5e-7),\r\n",
    "    accuracy=network.accuracy.Accuracy_Regression()\r\n",
    ")\r\n",
    "\r\n",
    "model.finalize()"
   ],
   "outputs": [],
   "metadata": {}
  },
  {
   "cell_type": "code",
   "execution_count": 71,
   "source": [
    "model.train(X, X, validation_data=(X_test, X_test),\r\n",
    "    epochs = EPOCHS,\r\n",
    "    batch_size=BATCH_SIZE,\r\n",
    "    print_every = 100\r\n",
    ")\r\n",
    "\r\n",
    "model.save('autoencoder.model')"
   ],
   "outputs": [
    {
     "output_type": "stream",
     "name": "stdout",
     "text": [
      "epoch: 1\n",
      "step: 0, acc: 0.003, loss: 1.507 (data_loss: 1.396, reg_loss: 0.111), lr: 0.01\n",
      "step: 100, acc: 0.000, loss: 0.700 (data_loss: 0.695, reg_loss: 0.005), lr: 0.00999950002499875\n",
      "step: 200, acc: 0.000, loss: 0.692 (data_loss: 0.690, reg_loss: 0.003), lr: 0.009999000099990002\n",
      "step: 300, acc: 0.000, loss: 0.692 (data_loss: 0.690, reg_loss: 0.002), lr: 0.009998500224966254\n",
      "step: 400, acc: 0.000, loss: 0.687 (data_loss: 0.686, reg_loss: 0.001), lr: 0.009998000399920017\n",
      "step: 468, acc: 0.000, loss: 0.676 (data_loss: 0.675, reg_loss: 0.001), lr: 0.0099976605474319\n",
      "\n",
      "training, acc: 0.007, loss: 0.692 (data_loss: 0.691, reg_loss: 0.001), lr: 0.0099976605474319\n",
      "validation: acc: 0.000, loss: 0.675\n",
      "\n",
      "epoch: 2\n",
      "step: 0, acc: 0.000, loss: 0.684 (data_loss: 0.683, reg_loss: 0.001), lr: 0.009997655549773578\n",
      "step: 100, acc: 0.000, loss: 0.696 (data_loss: 0.695, reg_loss: 0.001), lr: 0.00999715580917229\n",
      "step: 200, acc: 0.000, loss: 0.690 (data_loss: 0.689, reg_loss: 0.001), lr: 0.009996656118528353\n",
      "step: 300, acc: 0.000, loss: 0.690 (data_loss: 0.690, reg_loss: 0.001), lr: 0.009996156477834273\n",
      "step: 400, acc: 0.000, loss: 0.687 (data_loss: 0.686, reg_loss: 0.001), lr: 0.009995656887082564\n",
      "step: 468, acc: 0.000, loss: 0.675 (data_loss: 0.675, reg_loss: 0.000), lr: 0.00999531719389466\n",
      "\n",
      "training, acc: 0.000, loss: 0.678 (data_loss: 0.678, reg_loss: 0.000), lr: 0.00999531719389466\n",
      "validation: acc: 0.000, loss: 0.675\n",
      "\n",
      "epoch: 3\n",
      "step: 0, acc: 0.000, loss: 0.683 (data_loss: 0.683, reg_loss: 0.000), lr: 0.009995312198578866\n",
      "step: 100, acc: 0.000, loss: 0.695 (data_loss: 0.695, reg_loss: 0.000), lr: 0.009994812692212742\n"
     ]
    },
    {
     "output_type": "error",
     "ename": "KeyboardInterrupt",
     "evalue": "",
     "traceback": [
      "\u001b[1;31m---------------------------------------------------------------------------\u001b[0m",
      "\u001b[1;31mKeyboardInterrupt\u001b[0m                         Traceback (most recent call last)",
      "\u001b[1;32m~\\AppData\\Local\\Temp/ipykernel_21128/1962049938.py\u001b[0m in \u001b[0;36m<module>\u001b[1;34m\u001b[0m\n\u001b[0;32m      2\u001b[0m     \u001b[0mepochs\u001b[0m \u001b[1;33m=\u001b[0m \u001b[0mEPOCHS\u001b[0m\u001b[1;33m,\u001b[0m\u001b[1;33m\u001b[0m\u001b[1;33m\u001b[0m\u001b[0m\n\u001b[0;32m      3\u001b[0m     \u001b[0mbatch_size\u001b[0m\u001b[1;33m=\u001b[0m\u001b[0mBATCH_SIZE\u001b[0m\u001b[1;33m,\u001b[0m\u001b[1;33m\u001b[0m\u001b[1;33m\u001b[0m\u001b[0m\n\u001b[1;32m----> 4\u001b[1;33m     \u001b[0mprint_every\u001b[0m \u001b[1;33m=\u001b[0m \u001b[1;36m100\u001b[0m\u001b[1;33m\u001b[0m\u001b[1;33m\u001b[0m\u001b[0m\n\u001b[0m\u001b[0;32m      5\u001b[0m )\n\u001b[0;32m      6\u001b[0m \u001b[1;33m\u001b[0m\u001b[0m\n",
      "\u001b[1;32mc:\\Users\\felix\\OneDrive - student.kit.edu\\Desktop\\Portfolio\\neural-network-and-deep-learning\\nnfs\\src\\network.py\u001b[0m in \u001b[0;36mtrain\u001b[1;34m(self, X, y, epochs, batch_size, print_every, validation_data)\u001b[0m\n\u001b[0;32m    154\u001b[0m \u001b[1;33m\u001b[0m\u001b[0m\n\u001b[0;32m    155\u001b[0m                 \u001b[1;31m# Backward Pass\u001b[0m\u001b[1;33m\u001b[0m\u001b[1;33m\u001b[0m\u001b[1;33m\u001b[0m\u001b[0m\n\u001b[1;32m--> 156\u001b[1;33m                 \u001b[0mself\u001b[0m\u001b[1;33m.\u001b[0m\u001b[0mbackward\u001b[0m\u001b[1;33m(\u001b[0m\u001b[0moutput\u001b[0m\u001b[1;33m,\u001b[0m \u001b[0mbatch_y\u001b[0m\u001b[1;33m)\u001b[0m\u001b[1;33m\u001b[0m\u001b[1;33m\u001b[0m\u001b[0m\n\u001b[0m\u001b[0;32m    157\u001b[0m \u001b[1;33m\u001b[0m\u001b[0m\n\u001b[0;32m    158\u001b[0m                 \u001b[1;31m# Optimize\u001b[0m\u001b[1;33m\u001b[0m\u001b[1;33m\u001b[0m\u001b[1;33m\u001b[0m\u001b[0m\n",
      "\u001b[1;32mc:\\Users\\felix\\OneDrive - student.kit.edu\\Desktop\\Portfolio\\neural-network-and-deep-learning\\nnfs\\src\\network.py\u001b[0m in \u001b[0;36mbackward\u001b[1;34m(self, output, y)\u001b[0m\n\u001b[0;32m    219\u001b[0m \u001b[1;33m\u001b[0m\u001b[0m\n\u001b[0;32m    220\u001b[0m         \u001b[1;32mfor\u001b[0m \u001b[0mlayer\u001b[0m \u001b[1;32min\u001b[0m \u001b[0mreversed\u001b[0m\u001b[1;33m(\u001b[0m\u001b[0mself\u001b[0m\u001b[1;33m.\u001b[0m\u001b[0mlayers\u001b[0m\u001b[1;33m)\u001b[0m\u001b[1;33m:\u001b[0m\u001b[1;33m\u001b[0m\u001b[1;33m\u001b[0m\u001b[0m\n\u001b[1;32m--> 221\u001b[1;33m             \u001b[0mlayer\u001b[0m\u001b[1;33m.\u001b[0m\u001b[0mbackward\u001b[0m\u001b[1;33m(\u001b[0m\u001b[0mlayer\u001b[0m\u001b[1;33m.\u001b[0m\u001b[0mnext\u001b[0m\u001b[1;33m.\u001b[0m\u001b[0mdinputs\u001b[0m\u001b[1;33m)\u001b[0m\u001b[1;33m\u001b[0m\u001b[1;33m\u001b[0m\u001b[0m\n\u001b[0m\u001b[0;32m    222\u001b[0m \u001b[1;33m\u001b[0m\u001b[0m\n\u001b[0;32m    223\u001b[0m \u001b[1;33m\u001b[0m\u001b[0m\n",
      "\u001b[1;32mc:\\Users\\felix\\OneDrive - student.kit.edu\\Desktop\\Portfolio\\neural-network-and-deep-learning\\nnfs\\src\\layers.py\u001b[0m in \u001b[0;36mbackward\u001b[1;34m(self, dvalues)\u001b[0m\n\u001b[0;32m     46\u001b[0m         Calculates gradient of weights, biases and input\"\"\"\n\u001b[0;32m     47\u001b[0m \u001b[1;33m\u001b[0m\u001b[0m\n\u001b[1;32m---> 48\u001b[1;33m         \u001b[0mself\u001b[0m\u001b[1;33m.\u001b[0m\u001b[0mdweights\u001b[0m \u001b[1;33m=\u001b[0m \u001b[0mnp\u001b[0m\u001b[1;33m.\u001b[0m\u001b[0mdot\u001b[0m\u001b[1;33m(\u001b[0m\u001b[0mself\u001b[0m\u001b[1;33m.\u001b[0m\u001b[0minputs\u001b[0m\u001b[1;33m.\u001b[0m\u001b[0mT\u001b[0m\u001b[1;33m,\u001b[0m \u001b[0mdvalues\u001b[0m\u001b[1;33m)\u001b[0m\u001b[1;33m\u001b[0m\u001b[1;33m\u001b[0m\u001b[0m\n\u001b[0m\u001b[0;32m     49\u001b[0m         \u001b[0mself\u001b[0m\u001b[1;33m.\u001b[0m\u001b[0mdbiases\u001b[0m \u001b[1;33m=\u001b[0m \u001b[0mnp\u001b[0m\u001b[1;33m.\u001b[0m\u001b[0msum\u001b[0m\u001b[1;33m(\u001b[0m\u001b[0mdvalues\u001b[0m\u001b[1;33m,\u001b[0m \u001b[0maxis\u001b[0m\u001b[1;33m=\u001b[0m\u001b[1;36m0\u001b[0m\u001b[1;33m,\u001b[0m \u001b[0mkeepdims\u001b[0m\u001b[1;33m=\u001b[0m\u001b[1;32mTrue\u001b[0m\u001b[1;33m)\u001b[0m\u001b[1;33m\u001b[0m\u001b[1;33m\u001b[0m\u001b[0m\n\u001b[0;32m     50\u001b[0m \u001b[1;33m\u001b[0m\u001b[0m\n",
      "\u001b[1;32m~\\AppData\\Local\\Programs\\Python\\Python37-32\\lib\\site-packages\\nnfs\\core.py\u001b[0m in \u001b[0;36mdot\u001b[1;34m(*args, **kwargs)\u001b[0m\n\u001b[0;32m     20\u001b[0m         \u001b[0morig_dot\u001b[0m \u001b[1;33m=\u001b[0m \u001b[0mnp\u001b[0m\u001b[1;33m.\u001b[0m\u001b[0mdot\u001b[0m\u001b[1;33m\u001b[0m\u001b[1;33m\u001b[0m\u001b[0m\n\u001b[0;32m     21\u001b[0m         \u001b[1;32mdef\u001b[0m \u001b[0mdot\u001b[0m\u001b[1;33m(\u001b[0m\u001b[1;33m*\u001b[0m\u001b[0margs\u001b[0m\u001b[1;33m,\u001b[0m \u001b[1;33m**\u001b[0m\u001b[0mkwargs\u001b[0m\u001b[1;33m)\u001b[0m\u001b[1;33m:\u001b[0m\u001b[1;33m\u001b[0m\u001b[1;33m\u001b[0m\u001b[0m\n\u001b[1;32m---> 22\u001b[1;33m             \u001b[1;32mreturn\u001b[0m \u001b[0morig_dot\u001b[0m\u001b[1;33m(\u001b[0m\u001b[1;33m*\u001b[0m\u001b[1;33m[\u001b[0m\u001b[0ma\u001b[0m\u001b[1;33m.\u001b[0m\u001b[0mastype\u001b[0m\u001b[1;33m(\u001b[0m\u001b[1;34m'float64'\u001b[0m\u001b[1;33m)\u001b[0m \u001b[1;32mfor\u001b[0m \u001b[0ma\u001b[0m \u001b[1;32min\u001b[0m \u001b[0margs\u001b[0m\u001b[1;33m]\u001b[0m\u001b[1;33m,\u001b[0m \u001b[1;33m**\u001b[0m\u001b[0mkwargs\u001b[0m\u001b[1;33m)\u001b[0m\u001b[1;33m.\u001b[0m\u001b[0mastype\u001b[0m\u001b[1;33m(\u001b[0m\u001b[1;34m'float32'\u001b[0m\u001b[1;33m)\u001b[0m\u001b[1;33m\u001b[0m\u001b[1;33m\u001b[0m\u001b[0m\n\u001b[0m\u001b[0;32m     23\u001b[0m         \u001b[0mnp\u001b[0m\u001b[1;33m.\u001b[0m\u001b[0mdot\u001b[0m \u001b[1;33m=\u001b[0m \u001b[0mdot\u001b[0m\u001b[1;33m\u001b[0m\u001b[1;33m\u001b[0m\u001b[0m\n\u001b[0;32m     24\u001b[0m     \u001b[1;32melse\u001b[0m\u001b[1;33m:\u001b[0m\u001b[1;33m\u001b[0m\u001b[1;33m\u001b[0m\u001b[0m\n",
      "\u001b[1;32m<__array_function__ internals>\u001b[0m in \u001b[0;36mdot\u001b[1;34m(*args, **kwargs)\u001b[0m\n",
      "\u001b[1;31mKeyboardInterrupt\u001b[0m: "
     ]
    }
   ],
   "metadata": {}
  },
  {
   "cell_type": "code",
   "execution_count": 69,
   "source": [
    "j = np.random.randint(1, 50000)\r\n",
    "\r\n",
    "print(j)\r\n",
    "\r\n",
    "X_pred = model.predict(X[j])\r\n",
    "\r\n",
    "plt.imshow(X[j].reshape(28, 28), cmap='gray')\r\n",
    "plt.show()\r\n",
    "plt.imshow(X_pred.reshape(28, 28), cmap='gray')\r\n",
    "plt.show()"
   ],
   "outputs": [
    {
     "output_type": "stream",
     "name": "stdout",
     "text": [
      "46448\n"
     ]
    },
    {
     "output_type": "display_data",
     "data": {
      "image/png": "[encoded data removed]",
      "image/svg+xml": "<?xml version=\"1.0\" encoding=\"utf-8\" standalone=\"no\"?>\r\n<!DOCTYPE svg PUBLIC \"-//W3C//DTD SVG 1.1//EN\"\r\n  \"http://www.w3.org/Graphics/SVG/1.1/DTD/svg11.dtd\">\r\n<!-- Created with matplotlib (https://matplotlib.org/) -->\r\n<svg height=\"248.518129pt\" version=\"1.1\" viewBox=\"0 0 251.565004 248.518129\" width=\"251.565004pt\" xmlns=\"http://www.w3.org/2000/svg\" xmlns:xlink=\"http://www.w3.org/1999/xlink\">\r\n <defs>\r\n  <style type=\"text/css\">\r\n*{stroke-linecap:butt;stroke-linejoin:round;}\r\n  </style>\r\n </defs>\r\n <g id=\"figure_1\">\r\n  <g id=\"patch_1\">\r\n   <path d=\"M -0.000004 248.518127 \r\nL 251.564998 248.518127 \r\nL 251.564998 0 \r\nL -0.000004 0 \r\nz\r\n\" style=\"fill:none;\"/>\r\n  </g>\r\n  <g id=\"axes_1\">\r\n   <g id=\"patch_2\">\r\n    <path d=\"M 26.924999 224.639999 \r\nL 244.365002 224.639999 \r\nL 244.365002 7.199997 \r\nL 26.924999 7.199997 \r\nz\r\n\" style=\"fill:#ffffff;\"/>\r\n   </g>\r\n   <g clip-path=\"url(#p98e4f09607)\">\r\n    <image height=\"218\" id=\"image4b398c985e\" transform=\"scale(1 -1)translate(0 -218)\" width=\"218\" x=\"26.924999\" xlink:href=\"data:image/png;base64,\r\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\" y=\"-6.639997\"/>\r\n   </g>\r\n   <g id=\"matplotlib.axis_1\">\r\n    <g id=\"xtick_1\">\r\n     <g id=\"line2d_1\">\r\n      <defs>\r\n       <path d=\"M 0 0 \r\nL 0 3.5 \r\n\" id=\"m199f8f27f0\" style=\"stroke:#000000;stroke-width:0.8;\"/>\r\n      </defs>\r\n      <g>\r\n       <use style=\"stroke:#000000;stroke-width:0.8;\" x=\"30.807856\" xlink:href=\"#m199f8f27f0\" y=\"224.639999\"/>\r\n      </g>\r\n     </g>\r\n     <g id=\"text_1\">\r\n      <!-- 0 -->\r\n      <defs>\r\n       <path d=\"M 31.78125 66.40625 \r\nQ 24.171875 66.40625 20.328125 58.90625 \r\nQ 16.5 51.421875 16.5 36.375 \r\nQ 16.5 21.390625 20.328125 13.890625 \r\nQ 24.171875 6.390625 31.78125 6.390625 \r\nQ 39.453125 6.390625 43.28125 13.890625 \r\nQ 47.125 21.390625 47.125 36.375 \r\nQ 47.125 51.421875 43.28125 58.90625 \r\nQ 39.453125 66.40625 31.78125 66.40625 \r\nz\r\nM 31.78125 74.21875 \r\nQ 44.046875 74.21875 50.515625 64.515625 \r\nQ 56.984375 54.828125 56.984375 36.375 \r\nQ 56.984375 17.96875 50.515625 8.265625 \r\nQ 44.046875 -1.421875 31.78125 -1.421875 \r\nQ 19.53125 -1.421875 13.0625 8.265625 \r\nQ 6.59375 17.96875 6.59375 36.375 \r\nQ 6.59375 54.828125 13.0625 64.515625 \r\nQ 19.53125 74.21875 31.78125 74.21875 \r\nz\r\n\" id=\"DejaVuSans-48\"/>\r\n      </defs>\r\n      <g transform=\"translate(27.626606 239.238442)scale(0.1 -0.1)\">\r\n       <use xlink:href=\"#DejaVuSans-48\"/>\r\n      </g>\r\n     </g>\r\n    </g>\r\n    <g id=\"xtick_2\">\r\n     <g id=\"line2d_2\">\r\n      <g>\r\n       <use style=\"stroke:#000000;stroke-width:0.8;\" x=\"69.636426\" xlink:href=\"#m199f8f27f0\" y=\"224.639999\"/>\r\n      </g>\r\n     </g>\r\n     <g id=\"text_2\">\r\n      <!-- 5 -->\r\n      <defs>\r\n       <path d=\"M 10.796875 72.90625 \r\nL 49.515625 72.90625 \r\nL 49.515625 64.59375 \r\nL 19.828125 64.59375 \r\nL 19.828125 46.734375 \r\nQ 21.96875 47.46875 24.109375 47.828125 \r\nQ 26.265625 48.1875 28.421875 48.1875 \r\nQ 40.625 48.1875 47.75 41.5 \r\nQ 54.890625 34.8125 54.890625 23.390625 \r\nQ 54.890625 11.625 47.5625 5.09375 \r\nQ 40.234375 -1.421875 26.90625 -1.421875 \r\nQ 22.3125 -1.421875 17.546875 -0.640625 \r\nQ 12.796875 0.140625 7.71875 1.703125 \r\nL 7.71875 11.625 \r\nQ 12.109375 9.234375 16.796875 8.0625 \r\nQ 21.484375 6.890625 26.703125 6.890625 \r\nQ 35.15625 6.890625 40.078125 11.328125 \r\nQ 45.015625 15.765625 45.015625 23.390625 \r\nQ 45.015625 31 40.078125 35.4375 \r\nQ 35.15625 39.890625 26.703125 39.890625 \r\nQ 22.75 39.890625 18.8125 39.015625 \r\nQ 14.890625 38.140625 10.796875 36.28125 \r\nz\r\n\" id=\"DejaVuSans-53\"/>\r\n      </defs>\r\n      <g transform=\"translate(66.455176 239.238442)scale(0.1 -0.1)\">\r\n       <use xlink:href=\"#DejaVuSans-53\"/>\r\n      </g>\r\n     </g>\r\n    </g>\r\n    <g id=\"xtick_3\">\r\n     <g id=\"line2d_3\">\r\n      <g>\r\n       <use style=\"stroke:#000000;stroke-width:0.8;\" x=\"108.464997\" xlink:href=\"#m199f8f27f0\" y=\"224.639999\"/>\r\n      </g>\r\n     </g>\r\n     <g id=\"text_3\">\r\n      <!-- 10 -->\r\n      <defs>\r\n       <path d=\"M 12.40625 8.296875 \r\nL 28.515625 8.296875 \r\nL 28.515625 63.921875 \r\nL 10.984375 60.40625 \r\nL 10.984375 69.390625 \r\nL 28.421875 72.90625 \r\nL 38.28125 72.90625 \r\nL 38.28125 8.296875 \r\nL 54.390625 8.296875 \r\nL 54.390625 0 \r\nL 12.40625 0 \r\nz\r\n\" id=\"DejaVuSans-49\"/>\r\n      </defs>\r\n      <g transform=\"translate(102.102497 239.238442)scale(0.1 -0.1)\">\r\n       <use xlink:href=\"#DejaVuSans-49\"/>\r\n       <use x=\"63.623047\" xlink:href=\"#DejaVuSans-48\"/>\r\n      </g>\r\n     </g>\r\n    </g>\r\n    <g id=\"xtick_4\">\r\n     <g id=\"line2d_4\">\r\n      <g>\r\n       <use style=\"stroke:#000000;stroke-width:0.8;\" x=\"147.293568\" xlink:href=\"#m199f8f27f0\" y=\"224.639999\"/>\r\n      </g>\r\n     </g>\r\n     <g id=\"text_4\">\r\n      <!-- 15 -->\r\n      <g transform=\"translate(140.931068 239.238442)scale(0.1 -0.1)\">\r\n       <use xlink:href=\"#DejaVuSans-49\"/>\r\n       <use x=\"63.623047\" xlink:href=\"#DejaVuSans-53\"/>\r\n      </g>\r\n     </g>\r\n    </g>\r\n    <g id=\"xtick_5\">\r\n     <g id=\"line2d_5\">\r\n      <g>\r\n       <use style=\"stroke:#000000;stroke-width:0.8;\" x=\"186.122139\" xlink:href=\"#m199f8f27f0\" y=\"224.639999\"/>\r\n      </g>\r\n     </g>\r\n     <g id=\"text_5\">\r\n      <!-- 20 -->\r\n      <defs>\r\n       <path d=\"M 19.1875 8.296875 \r\nL 53.609375 8.296875 \r\nL 53.609375 0 \r\nL 7.328125 0 \r\nL 7.328125 8.296875 \r\nQ 12.9375 14.109375 22.625 23.890625 \r\nQ 32.328125 33.6875 34.8125 36.53125 \r\nQ 39.546875 41.84375 41.421875 45.53125 \r\nQ 43.3125 49.21875 43.3125 52.78125 \r\nQ 43.3125 58.59375 39.234375 62.25 \r\nQ 35.15625 65.921875 28.609375 65.921875 \r\nQ 23.96875 65.921875 18.8125 64.3125 \r\nQ 13.671875 62.703125 7.8125 59.421875 \r\nL 7.8125 69.390625 \r\nQ 13.765625 71.78125 18.9375 73 \r\nQ 24.125 74.21875 28.421875 74.21875 \r\nQ 39.75 74.21875 46.484375 68.546875 \r\nQ 53.21875 62.890625 53.21875 53.421875 \r\nQ 53.21875 48.921875 51.53125 44.890625 \r\nQ 49.859375 40.875 45.40625 35.40625 \r\nQ 44.1875 33.984375 37.640625 27.21875 \r\nQ 31.109375 20.453125 19.1875 8.296875 \r\nz\r\n\" id=\"DejaVuSans-50\"/>\r\n      </defs>\r\n      <g transform=\"translate(179.759639 239.238442)scale(0.1 -0.1)\">\r\n       <use xlink:href=\"#DejaVuSans-50\"/>\r\n       <use x=\"63.623047\" xlink:href=\"#DejaVuSans-48\"/>\r\n      </g>\r\n     </g>\r\n    </g>\r\n    <g id=\"xtick_6\">\r\n     <g id=\"line2d_6\">\r\n      <g>\r\n       <use style=\"stroke:#000000;stroke-width:0.8;\" x=\"224.95071\" xlink:href=\"#m199f8f27f0\" y=\"224.639999\"/>\r\n      </g>\r\n     </g>\r\n     <g id=\"text_6\">\r\n      <!-- 25 -->\r\n      <g transform=\"translate(218.58821 239.238442)scale(0.1 -0.1)\">\r\n       <use xlink:href=\"#DejaVuSans-50\"/>\r\n       <use x=\"63.623047\" xlink:href=\"#DejaVuSans-53\"/>\r\n      </g>\r\n     </g>\r\n    </g>\r\n   </g>\r\n   <g id=\"matplotlib.axis_2\">\r\n    <g id=\"ytick_1\">\r\n     <g id=\"line2d_7\">\r\n      <defs>\r\n       <path d=\"M 0 0 \r\nL -3.5 0 \r\n\" id=\"m3ca8d9fc55\" style=\"stroke:#000000;stroke-width:0.8;\"/>\r\n      </defs>\r\n      <g>\r\n       <use style=\"stroke:#000000;stroke-width:0.8;\" x=\"26.924999\" xlink:href=\"#m3ca8d9fc55\" y=\"11.082855\"/>\r\n      </g>\r\n     </g>\r\n     <g id=\"text_7\">\r\n      <!-- 0 -->\r\n      <g transform=\"translate(13.562499 14.882076)scale(0.1 -0.1)\">\r\n       <use xlink:href=\"#DejaVuSans-48\"/>\r\n      </g>\r\n     </g>\r\n    </g>\r\n    <g id=\"ytick_2\">\r\n     <g id=\"line2d_8\">\r\n      <g>\r\n       <use style=\"stroke:#000000;stroke-width:0.8;\" x=\"26.924999\" xlink:href=\"#m3ca8d9fc55\" y=\"49.911426\"/>\r\n      </g>\r\n     </g>\r\n     <g id=\"text_8\">\r\n      <!-- 5 -->\r\n      <g transform=\"translate(13.562499 53.710647)scale(0.1 -0.1)\">\r\n       <use xlink:href=\"#DejaVuSans-53\"/>\r\n      </g>\r\n     </g>\r\n    </g>\r\n    <g id=\"ytick_3\">\r\n     <g id=\"line2d_9\">\r\n      <g>\r\n       <use style=\"stroke:#000000;stroke-width:0.8;\" x=\"26.924999\" xlink:href=\"#m3ca8d9fc55\" y=\"88.739997\"/>\r\n      </g>\r\n     </g>\r\n     <g id=\"text_9\">\r\n      <!-- 10 -->\r\n      <g transform=\"translate(7.199999 92.539217)scale(0.1 -0.1)\">\r\n       <use xlink:href=\"#DejaVuSans-49\"/>\r\n       <use x=\"63.623047\" xlink:href=\"#DejaVuSans-48\"/>\r\n      </g>\r\n     </g>\r\n    </g>\r\n    <g id=\"ytick_4\">\r\n     <g id=\"line2d_10\">\r\n      <g>\r\n       <use style=\"stroke:#000000;stroke-width:0.8;\" x=\"26.924999\" xlink:href=\"#m3ca8d9fc55\" y=\"127.568568\"/>\r\n      </g>\r\n     </g>\r\n     <g id=\"text_10\">\r\n      <!-- 15 -->\r\n      <g transform=\"translate(7.199999 131.367788)scale(0.1 -0.1)\">\r\n       <use xlink:href=\"#DejaVuSans-49\"/>\r\n       <use x=\"63.623047\" xlink:href=\"#DejaVuSans-53\"/>\r\n      </g>\r\n     </g>\r\n    </g>\r\n    <g id=\"ytick_5\">\r\n     <g id=\"line2d_11\">\r\n      <g>\r\n       <use style=\"stroke:#000000;stroke-width:0.8;\" x=\"26.924999\" xlink:href=\"#m3ca8d9fc55\" y=\"166.397139\"/>\r\n      </g>\r\n     </g>\r\n     <g id=\"text_11\">\r\n      <!-- 20 -->\r\n      <g transform=\"translate(7.199999 170.196359)scale(0.1 -0.1)\">\r\n       <use xlink:href=\"#DejaVuSans-50\"/>\r\n       <use x=\"63.623047\" xlink:href=\"#DejaVuSans-48\"/>\r\n      </g>\r\n     </g>\r\n    </g>\r\n    <g id=\"ytick_6\">\r\n     <g id=\"line2d_12\">\r\n      <g>\r\n       <use style=\"stroke:#000000;stroke-width:0.8;\" x=\"26.924999\" xlink:href=\"#m3ca8d9fc55\" y=\"205.225709\"/>\r\n      </g>\r\n     </g>\r\n     <g id=\"text_12\">\r\n      <!-- 25 -->\r\n      <g transform=\"translate(7.199999 209.02493)scale(0.1 -0.1)\">\r\n       <use xlink:href=\"#DejaVuSans-50\"/>\r\n       <use x=\"63.623047\" xlink:href=\"#DejaVuSans-53\"/>\r\n      </g>\r\n     </g>\r\n    </g>\r\n   </g>\r\n   <g id=\"patch_3\">\r\n    <path d=\"M 26.924999 224.639995 \r\nL 26.924999 7.199998 \r\n\" style=\"fill:none;stroke:#000000;stroke-linecap:square;stroke-linejoin:miter;stroke-width:0.8;\"/>\r\n   </g>\r\n   <g id=\"patch_4\">\r\n    <path d=\"M 244.365002 224.639995 \r\nL 244.365002 7.199998 \r\n\" style=\"fill:none;stroke:#000000;stroke-linecap:square;stroke-linejoin:miter;stroke-width:0.8;\"/>\r\n   </g>\r\n   <g id=\"patch_5\">\r\n    <path d=\"M 26.924999 224.639999 \r\nL 244.364995 224.639999 \r\n\" style=\"fill:none;stroke:#000000;stroke-linecap:square;stroke-linejoin:miter;stroke-width:0.8;\"/>\r\n   </g>\r\n   <g id=\"patch_6\">\r\n    <path d=\"M 26.924999 7.199997 \r\nL 244.364995 7.199997 \r\n\" style=\"fill:none;stroke:#000000;stroke-linecap:square;stroke-linejoin:miter;stroke-width:0.8;\"/>\r\n   </g>\r\n  </g>\r\n </g>\r\n <defs>\r\n  <clipPath id=\"p98e4f09607\">\r\n   <rect height=\"217.440002\" width=\"217.440002\" x=\"26.924999\" y=\"7.200003\"/>\r\n  </clipPath>\r\n </defs>\r\n</svg>\r\n",
      "text/plain": [
       "<Figure size 432x288 with 1 Axes>"
      ]
     },
     "metadata": {
      "needs_background": "light"
     }
    },
    {
     "output_type": "display_data",
     "data": {
      "image/png": "[encoded data removed]",
      "image/svg+xml": "<?xml version=\"1.0\" encoding=\"utf-8\" standalone=\"no\"?>\r\n<!DOCTYPE svg PUBLIC \"-//W3C//DTD SVG 1.1//EN\"\r\n  \"http://www.w3.org/Graphics/SVG/1.1/DTD/svg11.dtd\">\r\n<!-- Created with matplotlib (https://matplotlib.org/) -->\r\n<svg height=\"248.518129pt\" version=\"1.1\" viewBox=\"0 0 251.565004 248.518129\" width=\"251.565004pt\" xmlns=\"http://www.w3.org/2000/svg\" xmlns:xlink=\"http://www.w3.org/1999/xlink\">\r\n <defs>\r\n  <style type=\"text/css\">\r\n*{stroke-linecap:butt;stroke-linejoin:round;}\r\n  </style>\r\n </defs>\r\n <g id=\"figure_1\">\r\n  <g id=\"patch_1\">\r\n   <path d=\"M -0.000004 248.518127 \r\nL 251.564998 248.518127 \r\nL 251.564998 0 \r\nL -0.000004 0 \r\nz\r\n\" style=\"fill:none;\"/>\r\n  </g>\r\n  <g id=\"axes_1\">\r\n   <g id=\"patch_2\">\r\n    <path d=\"M 26.924999 224.639999 \r\nL 244.365002 224.639999 \r\nL 244.365002 7.199997 \r\nL 26.924999 7.199997 \r\nz\r\n\" style=\"fill:#ffffff;\"/>\r\n   </g>\r\n   <g clip-path=\"url(#pf838ddd3b3)\">\r\n    <image height=\"218\" id=\"image4b8f00c5a6\" transform=\"scale(1 -1)translate(0 -218)\" width=\"218\" x=\"26.924999\" xlink:href=\"data:image/png;base64,\r\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\" y=\"-6.639997\"/>\r\n   </g>\r\n   <g id=\"matplotlib.axis_1\">\r\n    <g id=\"xtick_1\">\r\n     <g id=\"line2d_1\">\r\n      <defs>\r\n       <path d=\"M 0 0 \r\nL 0 3.5 \r\n\" id=\"md24d604851\" style=\"stroke:#000000;stroke-width:0.8;\"/>\r\n      </defs>\r\n      <g>\r\n       <use style=\"stroke:#000000;stroke-width:0.8;\" x=\"30.807856\" xlink:href=\"#md24d604851\" y=\"224.639999\"/>\r\n      </g>\r\n     </g>\r\n     <g id=\"text_1\">\r\n      <!-- 0 -->\r\n      <defs>\r\n       <path d=\"M 31.78125 66.40625 \r\nQ 24.171875 66.40625 20.328125 58.90625 \r\nQ 16.5 51.421875 16.5 36.375 \r\nQ 16.5 21.390625 20.328125 13.890625 \r\nQ 24.171875 6.390625 31.78125 6.390625 \r\nQ 39.453125 6.390625 43.28125 13.890625 \r\nQ 47.125 21.390625 47.125 36.375 \r\nQ 47.125 51.421875 43.28125 58.90625 \r\nQ 39.453125 66.40625 31.78125 66.40625 \r\nz\r\nM 31.78125 74.21875 \r\nQ 44.046875 74.21875 50.515625 64.515625 \r\nQ 56.984375 54.828125 56.984375 36.375 \r\nQ 56.984375 17.96875 50.515625 8.265625 \r\nQ 44.046875 -1.421875 31.78125 -1.421875 \r\nQ 19.53125 -1.421875 13.0625 8.265625 \r\nQ 6.59375 17.96875 6.59375 36.375 \r\nQ 6.59375 54.828125 13.0625 64.515625 \r\nQ 19.53125 74.21875 31.78125 74.21875 \r\nz\r\n\" id=\"DejaVuSans-48\"/>\r\n      </defs>\r\n      <g transform=\"translate(27.626606 239.238442)scale(0.1 -0.1)\">\r\n       <use xlink:href=\"#DejaVuSans-48\"/>\r\n      </g>\r\n     </g>\r\n    </g>\r\n    <g id=\"xtick_2\">\r\n     <g id=\"line2d_2\">\r\n      <g>\r\n       <use style=\"stroke:#000000;stroke-width:0.8;\" x=\"69.636426\" xlink:href=\"#md24d604851\" y=\"224.639999\"/>\r\n      </g>\r\n     </g>\r\n     <g id=\"text_2\">\r\n      <!-- 5 -->\r\n      <defs>\r\n       <path d=\"M 10.796875 72.90625 \r\nL 49.515625 72.90625 \r\nL 49.515625 64.59375 \r\nL 19.828125 64.59375 \r\nL 19.828125 46.734375 \r\nQ 21.96875 47.46875 24.109375 47.828125 \r\nQ 26.265625 48.1875 28.421875 48.1875 \r\nQ 40.625 48.1875 47.75 41.5 \r\nQ 54.890625 34.8125 54.890625 23.390625 \r\nQ 54.890625 11.625 47.5625 5.09375 \r\nQ 40.234375 -1.421875 26.90625 -1.421875 \r\nQ 22.3125 -1.421875 17.546875 -0.640625 \r\nQ 12.796875 0.140625 7.71875 1.703125 \r\nL 7.71875 11.625 \r\nQ 12.109375 9.234375 16.796875 8.0625 \r\nQ 21.484375 6.890625 26.703125 6.890625 \r\nQ 35.15625 6.890625 40.078125 11.328125 \r\nQ 45.015625 15.765625 45.015625 23.390625 \r\nQ 45.015625 31 40.078125 35.4375 \r\nQ 35.15625 39.890625 26.703125 39.890625 \r\nQ 22.75 39.890625 18.8125 39.015625 \r\nQ 14.890625 38.140625 10.796875 36.28125 \r\nz\r\n\" id=\"DejaVuSans-53\"/>\r\n      </defs>\r\n      <g transform=\"translate(66.455176 239.238442)scale(0.1 -0.1)\">\r\n       <use xlink:href=\"#DejaVuSans-53\"/>\r\n      </g>\r\n     </g>\r\n    </g>\r\n    <g id=\"xtick_3\">\r\n     <g id=\"line2d_3\">\r\n      <g>\r\n       <use style=\"stroke:#000000;stroke-width:0.8;\" x=\"108.464997\" xlink:href=\"#md24d604851\" y=\"224.639999\"/>\r\n      </g>\r\n     </g>\r\n     <g id=\"text_3\">\r\n      <!-- 10 -->\r\n      <defs>\r\n       <path d=\"M 12.40625 8.296875 \r\nL 28.515625 8.296875 \r\nL 28.515625 63.921875 \r\nL 10.984375 60.40625 \r\nL 10.984375 69.390625 \r\nL 28.421875 72.90625 \r\nL 38.28125 72.90625 \r\nL 38.28125 8.296875 \r\nL 54.390625 8.296875 \r\nL 54.390625 0 \r\nL 12.40625 0 \r\nz\r\n\" id=\"DejaVuSans-49\"/>\r\n      </defs>\r\n      <g transform=\"translate(102.102497 239.238442)scale(0.1 -0.1)\">\r\n       <use xlink:href=\"#DejaVuSans-49\"/>\r\n       <use x=\"63.623047\" xlink:href=\"#DejaVuSans-48\"/>\r\n      </g>\r\n     </g>\r\n    </g>\r\n    <g id=\"xtick_4\">\r\n     <g id=\"line2d_4\">\r\n      <g>\r\n       <use style=\"stroke:#000000;stroke-width:0.8;\" x=\"147.293568\" xlink:href=\"#md24d604851\" y=\"224.639999\"/>\r\n      </g>\r\n     </g>\r\n     <g id=\"text_4\">\r\n      <!-- 15 -->\r\n      <g transform=\"translate(140.931068 239.238442)scale(0.1 -0.1)\">\r\n       <use xlink:href=\"#DejaVuSans-49\"/>\r\n       <use x=\"63.623047\" xlink:href=\"#DejaVuSans-53\"/>\r\n      </g>\r\n     </g>\r\n    </g>\r\n    <g id=\"xtick_5\">\r\n     <g id=\"line2d_5\">\r\n      <g>\r\n       <use style=\"stroke:#000000;stroke-width:0.8;\" x=\"186.122139\" xlink:href=\"#md24d604851\" y=\"224.639999\"/>\r\n      </g>\r\n     </g>\r\n     <g id=\"text_5\">\r\n      <!-- 20 -->\r\n      <defs>\r\n       <path d=\"M 19.1875 8.296875 \r\nL 53.609375 8.296875 \r\nL 53.609375 0 \r\nL 7.328125 0 \r\nL 7.328125 8.296875 \r\nQ 12.9375 14.109375 22.625 23.890625 \r\nQ 32.328125 33.6875 34.8125 36.53125 \r\nQ 39.546875 41.84375 41.421875 45.53125 \r\nQ 43.3125 49.21875 43.3125 52.78125 \r\nQ 43.3125 58.59375 39.234375 62.25 \r\nQ 35.15625 65.921875 28.609375 65.921875 \r\nQ 23.96875 65.921875 18.8125 64.3125 \r\nQ 13.671875 62.703125 7.8125 59.421875 \r\nL 7.8125 69.390625 \r\nQ 13.765625 71.78125 18.9375 73 \r\nQ 24.125 74.21875 28.421875 74.21875 \r\nQ 39.75 74.21875 46.484375 68.546875 \r\nQ 53.21875 62.890625 53.21875 53.421875 \r\nQ 53.21875 48.921875 51.53125 44.890625 \r\nQ 49.859375 40.875 45.40625 35.40625 \r\nQ 44.1875 33.984375 37.640625 27.21875 \r\nQ 31.109375 20.453125 19.1875 8.296875 \r\nz\r\n\" id=\"DejaVuSans-50\"/>\r\n      </defs>\r\n      <g transform=\"translate(179.759639 239.238442)scale(0.1 -0.1)\">\r\n       <use xlink:href=\"#DejaVuSans-50\"/>\r\n       <use x=\"63.623047\" xlink:href=\"#DejaVuSans-48\"/>\r\n      </g>\r\n     </g>\r\n    </g>\r\n    <g id=\"xtick_6\">\r\n     <g id=\"line2d_6\">\r\n      <g>\r\n       <use style=\"stroke:#000000;stroke-width:0.8;\" x=\"224.95071\" xlink:href=\"#md24d604851\" y=\"224.639999\"/>\r\n      </g>\r\n     </g>\r\n     <g id=\"text_6\">\r\n      <!-- 25 -->\r\n      <g transform=\"translate(218.58821 239.238442)scale(0.1 -0.1)\">\r\n       <use xlink:href=\"#DejaVuSans-50\"/>\r\n       <use x=\"63.623047\" xlink:href=\"#DejaVuSans-53\"/>\r\n      </g>\r\n     </g>\r\n    </g>\r\n   </g>\r\n   <g id=\"matplotlib.axis_2\">\r\n    <g id=\"ytick_1\">\r\n     <g id=\"line2d_7\">\r\n      <defs>\r\n       <path d=\"M 0 0 \r\nL -3.5 0 \r\n\" id=\"m5df39a8fd9\" style=\"stroke:#000000;stroke-width:0.8;\"/>\r\n      </defs>\r\n      <g>\r\n       <use style=\"stroke:#000000;stroke-width:0.8;\" x=\"26.924999\" xlink:href=\"#m5df39a8fd9\" y=\"11.082855\"/>\r\n      </g>\r\n     </g>\r\n     <g id=\"text_7\">\r\n      <!-- 0 -->\r\n      <g transform=\"translate(13.562499 14.882076)scale(0.1 -0.1)\">\r\n       <use xlink:href=\"#DejaVuSans-48\"/>\r\n      </g>\r\n     </g>\r\n    </g>\r\n    <g id=\"ytick_2\">\r\n     <g id=\"line2d_8\">\r\n      <g>\r\n       <use style=\"stroke:#000000;stroke-width:0.8;\" x=\"26.924999\" xlink:href=\"#m5df39a8fd9\" y=\"49.911426\"/>\r\n      </g>\r\n     </g>\r\n     <g id=\"text_8\">\r\n      <!-- 5 -->\r\n      <g transform=\"translate(13.562499 53.710647)scale(0.1 -0.1)\">\r\n       <use xlink:href=\"#DejaVuSans-53\"/>\r\n      </g>\r\n     </g>\r\n    </g>\r\n    <g id=\"ytick_3\">\r\n     <g id=\"line2d_9\">\r\n      <g>\r\n       <use style=\"stroke:#000000;stroke-width:0.8;\" x=\"26.924999\" xlink:href=\"#m5df39a8fd9\" y=\"88.739997\"/>\r\n      </g>\r\n     </g>\r\n     <g id=\"text_9\">\r\n      <!-- 10 -->\r\n      <g transform=\"translate(7.199999 92.539217)scale(0.1 -0.1)\">\r\n       <use xlink:href=\"#DejaVuSans-49\"/>\r\n       <use x=\"63.623047\" xlink:href=\"#DejaVuSans-48\"/>\r\n      </g>\r\n     </g>\r\n    </g>\r\n    <g id=\"ytick_4\">\r\n     <g id=\"line2d_10\">\r\n      <g>\r\n       <use style=\"stroke:#000000;stroke-width:0.8;\" x=\"26.924999\" xlink:href=\"#m5df39a8fd9\" y=\"127.568568\"/>\r\n      </g>\r\n     </g>\r\n     <g id=\"text_10\">\r\n      <!-- 15 -->\r\n      <g transform=\"translate(7.199999 131.367788)scale(0.1 -0.1)\">\r\n       <use xlink:href=\"#DejaVuSans-49\"/>\r\n       <use x=\"63.623047\" xlink:href=\"#DejaVuSans-53\"/>\r\n      </g>\r\n     </g>\r\n    </g>\r\n    <g id=\"ytick_5\">\r\n     <g id=\"line2d_11\">\r\n      <g>\r\n       <use style=\"stroke:#000000;stroke-width:0.8;\" x=\"26.924999\" xlink:href=\"#m5df39a8fd9\" y=\"166.397139\"/>\r\n      </g>\r\n     </g>\r\n     <g id=\"text_11\">\r\n      <!-- 20 -->\r\n      <g transform=\"translate(7.199999 170.196359)scale(0.1 -0.1)\">\r\n       <use xlink:href=\"#DejaVuSans-50\"/>\r\n       <use x=\"63.623047\" xlink:href=\"#DejaVuSans-48\"/>\r\n      </g>\r\n     </g>\r\n    </g>\r\n    <g id=\"ytick_6\">\r\n     <g id=\"line2d_12\">\r\n      <g>\r\n       <use style=\"stroke:#000000;stroke-width:0.8;\" x=\"26.924999\" xlink:href=\"#m5df39a8fd9\" y=\"205.225709\"/>\r\n      </g>\r\n     </g>\r\n     <g id=\"text_12\">\r\n      <!-- 25 -->\r\n      <g transform=\"translate(7.199999 209.02493)scale(0.1 -0.1)\">\r\n       <use xlink:href=\"#DejaVuSans-50\"/>\r\n       <use x=\"63.623047\" xlink:href=\"#DejaVuSans-53\"/>\r\n      </g>\r\n     </g>\r\n    </g>\r\n   </g>\r\n   <g id=\"patch_3\">\r\n    <path d=\"M 26.924999 224.639995 \r\nL 26.924999 7.199998 \r\n\" style=\"fill:none;stroke:#000000;stroke-linecap:square;stroke-linejoin:miter;stroke-width:0.8;\"/>\r\n   </g>\r\n   <g id=\"patch_4\">\r\n    <path d=\"M 244.365002 224.639995 \r\nL 244.365002 7.199998 \r\n\" style=\"fill:none;stroke:#000000;stroke-linecap:square;stroke-linejoin:miter;stroke-width:0.8;\"/>\r\n   </g>\r\n   <g id=\"patch_5\">\r\n    <path d=\"M 26.924999 224.639999 \r\nL 244.364995 224.639999 \r\n\" style=\"fill:none;stroke:#000000;stroke-linecap:square;stroke-linejoin:miter;stroke-width:0.8;\"/>\r\n   </g>\r\n   <g id=\"patch_6\">\r\n    <path d=\"M 26.924999 7.199997 \r\nL 244.364995 7.199997 \r\n\" style=\"fill:none;stroke:#000000;stroke-linecap:square;stroke-linejoin:miter;stroke-width:0.8;\"/>\r\n   </g>\r\n  </g>\r\n </g>\r\n <defs>\r\n  <clipPath id=\"pf838ddd3b3\">\r\n   <rect height=\"217.440002\" width=\"217.440002\" x=\"26.924999\" y=\"7.200003\"/>\r\n  </clipPath>\r\n </defs>\r\n</svg>\r\n",
      "text/plain": [
       "<Figure size 432x288 with 1 Axes>"
      ]
     },
     "metadata": {
      "needs_background": "light"
     }
    }
   ],
   "metadata": {}
  },
  {
   "cell_type": "code",
   "execution_count": null,
   "source": [],
   "outputs": [],
   "metadata": {}
  }
 ],
 "metadata": {
  "orig_nbformat": 4,
  "language_info": {
   "name": "python",
   "version": "3.7.4",
   "mimetype": "text/x-python",
   "codemirror_mode": {
    "name": "ipython",
    "version": 3
   },
   "pygments_lexer": "ipython3",
   "nbconvert_exporter": "python",
   "file_extension": ".py"
  },
  "kernelspec": {
   "name": "python3",
   "display_name": "Python 3.7.4 32-bit"
  },
  "interpreter": {
   "hash": "cff984e5d2b9318b061dda5de6136a26ca1e40a95d2327fe62d81cd923144149"
  }
 },
 "nbformat": 4,
 "nbformat_minor": 2
}